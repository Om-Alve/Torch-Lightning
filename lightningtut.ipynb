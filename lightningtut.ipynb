{
 "cells": [
  {
   "cell_type": "code",
   "execution_count": 1,
   "id": "f834e99a-89b6-4fa4-b0e2-c97d6407e35b",
   "metadata": {},
   "outputs": [
    {
     "name": "stderr",
     "output_type": "stream",
     "text": [
      "C:\\Users\\omalv\\.conda\\envs\\acehacks\\Lib\\site-packages\\tqdm\\auto.py:21: TqdmWarning: IProgress not found. Please update jupyter and ipywidgets. See https://ipywidgets.readthedocs.io/en/stable/user_install.html\n",
      "  from .autonotebook import tqdm as notebook_tqdm\n"
     ]
    }
   ],
   "source": [
    "import torch\n",
    "import torch.nn as nn\n",
    "import matplotlib.pyplot as plt\n",
    "import numpy as np\n",
    "from torch.utils.data import DataLoader\n",
    "from torchvision import datasets,transforms\n",
    "from collections import Counter\n",
    "from torch.utils.data.dataset import random_split"
   ]
  },
  {
   "cell_type": "code",
   "execution_count": 2,
   "id": "085302ff-53de-4f6b-aa27-1ffa599a5589",
   "metadata": {},
   "outputs": [
    {
     "name": "stdout",
     "output_type": "stream",
     "text": [
      "Downloading http://yann.lecun.com/exdb/mnist/train-images-idx3-ubyte.gz\n",
      "Downloading http://yann.lecun.com/exdb/mnist/train-images-idx3-ubyte.gz to ./mnist\\MNIST\\raw\\train-images-idx3-ubyte.gz\n"
     ]
    },
    {
     "name": "stderr",
     "output_type": "stream",
     "text": [
      "100%|████████████████████████████████████████████████████████████████████| 9912422/9912422 [00:35<00:00, 276154.79it/s]\n"
     ]
    },
    {
     "name": "stdout",
     "output_type": "stream",
     "text": [
      "Extracting ./mnist\\MNIST\\raw\\train-images-idx3-ubyte.gz to ./mnist\\MNIST\\raw\n",
      "\n",
      "Downloading http://yann.lecun.com/exdb/mnist/train-labels-idx1-ubyte.gz\n",
      "Downloading http://yann.lecun.com/exdb/mnist/train-labels-idx1-ubyte.gz to ./mnist\\MNIST\\raw\\train-labels-idx1-ubyte.gz\n"
     ]
    },
    {
     "name": "stderr",
     "output_type": "stream",
     "text": [
      "100%|████████████████████████████████████████████████████████████████████████| 28881/28881 [00:00<00:00, 898879.47it/s]\n"
     ]
    },
    {
     "name": "stdout",
     "output_type": "stream",
     "text": [
      "Extracting ./mnist\\MNIST\\raw\\train-labels-idx1-ubyte.gz to ./mnist\\MNIST\\raw\n",
      "\n",
      "Downloading http://yann.lecun.com/exdb/mnist/t10k-images-idx3-ubyte.gz\n",
      "Downloading http://yann.lecun.com/exdb/mnist/t10k-images-idx3-ubyte.gz to ./mnist\\MNIST\\raw\\t10k-images-idx3-ubyte.gz\n"
     ]
    },
    {
     "name": "stderr",
     "output_type": "stream",
     "text": [
      "100%|████████████████████████████████████████████████████████████████████| 1648877/1648877 [00:03<00:00, 417398.79it/s]\n"
     ]
    },
    {
     "name": "stdout",
     "output_type": "stream",
     "text": [
      "Extracting ./mnist\\MNIST\\raw\\t10k-images-idx3-ubyte.gz to ./mnist\\MNIST\\raw\n",
      "\n",
      "Downloading http://yann.lecun.com/exdb/mnist/t10k-labels-idx1-ubyte.gz\n",
      "Downloading http://yann.lecun.com/exdb/mnist/t10k-labels-idx1-ubyte.gz to ./mnist\\MNIST\\raw\\t10k-labels-idx1-ubyte.gz\n"
     ]
    },
    {
     "name": "stderr",
     "output_type": "stream",
     "text": [
      "100%|█████████████████████████████████████████████████████████████████████████| 4542/4542 [00:00<00:00, 2324369.05it/s]"
     ]
    },
    {
     "name": "stdout",
     "output_type": "stream",
     "text": [
      "Extracting ./mnist\\MNIST\\raw\\t10k-labels-idx1-ubyte.gz to ./mnist\\MNIST\\raw\n",
      "\n"
     ]
    },
    {
     "name": "stderr",
     "output_type": "stream",
     "text": [
      "\n"
     ]
    }
   ],
   "source": [
    "train_ds = datasets.MNIST(\n",
    "    root='./mnist',train=True,transform=transforms.ToTensor(),download=True\n",
    ")\n",
    "\n",
    "test_ds = datasets.MNIST(\n",
    "    root='./mnist',train=False,transform=transforms.ToTensor(),download=True\n",
    ")"
   ]
  },
  {
   "cell_type": "code",
   "execution_count": 4,
   "id": "75c5c677-3752-470a-8b35-34a99e982fb0",
   "metadata": {},
   "outputs": [
    {
     "data": {
      "text/plain": [
       "(60000, 10000)"
      ]
     },
     "execution_count": 4,
     "metadata": {},
     "output_type": "execute_result"
    }
   ],
   "source": [
    "len(train_ds),len(test_ds)"
   ]
  },
  {
   "cell_type": "code",
   "execution_count": 5,
   "id": "796c98fb-d0bc-466b-ad86-2ca89ed82086",
   "metadata": {},
   "outputs": [],
   "source": [
    "train_ds,val_ds = random_split(train_ds,lengths=[55000,5000])"
   ]
  },
  {
   "cell_type": "code",
   "execution_count": 6,
   "id": "d4da6f49-b66b-454b-b8ed-0cf93a7b73a6",
   "metadata": {},
   "outputs": [
    {
     "data": {
      "text/plain": [
       "(55000, 5000, 10000)"
      ]
     },
     "execution_count": 6,
     "metadata": {},
     "output_type": "execute_result"
    }
   ],
   "source": [
    "len(train_ds),len(val_ds),len(test_ds)"
   ]
  },
  {
   "cell_type": "code",
   "execution_count": 55,
   "id": "08ab6055-789b-4a53-8bda-b3a5e145525d",
   "metadata": {},
   "outputs": [],
   "source": [
    "train_loader = DataLoader(\n",
    "    train_ds,\n",
    "    shuffle=True,\n",
    "    num_workers=4,\n",
    "    batch_size=512,\n",
    "    drop_last=True,\n",
    "    persistent_workers=True\n",
    ")\n",
    "\n",
    "val_loader = DataLoader(\n",
    "    val_ds,\n",
    "    shuffle=False,\n",
    "    batch_size=512,\n",
    "    num_workers=4,\n",
    "    persistent_workers=True,\n",
    ")\n",
    "\n",
    "test_loader = DataLoader(\n",
    "    test_ds,\n",
    "    shuffle=False,\n",
    "    batch_size=512\n",
    ")"
   ]
  },
  {
   "cell_type": "code",
   "execution_count": 56,
   "id": "dbeb55c5-d722-482d-b912-440eb7bc0a73",
   "metadata": {},
   "outputs": [
    {
     "name": "stdout",
     "output_type": "stream",
     "text": [
      "dict_items([(1, 6153), (9, 5424), (3, 5599), (4, 5343), (5, 4961), (2, 5457), (7, 5727), (6, 5401), (0, 5385), (8, 5334)])\n"
     ]
    }
   ],
   "source": [
    "train_counter = Counter()\n",
    "for images,labels in train_loader:\n",
    "    train_counter.update(labels.tolist())\n",
    "print(train_counter.items())"
   ]
  },
  {
   "cell_type": "code",
   "execution_count": 57,
   "id": "2add3652-de2d-4af7-8d58-51b1192bfc84",
   "metadata": {},
   "outputs": [],
   "source": [
    "class Classifier(nn.Module):\n",
    "    def __init__(self):\n",
    "        super().__init__()\n",
    "        self.net = nn.Sequential(\n",
    "            nn.Linear(784,64),\n",
    "            nn.ReLU(),\n",
    "            nn.Linear(64,64),\n",
    "            nn.ReLU(),\n",
    "            nn.Linear(64,10),\n",
    "        )\n",
    "    def forward(self,x):\n",
    "        x=x.flatten(1)\n",
    "        out = self.net(x)\n",
    "        return out"
   ]
  },
  {
   "cell_type": "code",
   "execution_count": 58,
   "id": "c3ef2ece-bdb9-48f3-8b7a-1c17301aa0a9",
   "metadata": {},
   "outputs": [],
   "source": [
    "# Pure PyTorch"
   ]
  },
  {
   "cell_type": "code",
   "execution_count": 59,
   "id": "3b07454a-fb20-4754-bfb4-83bfbc122b25",
   "metadata": {},
   "outputs": [],
   "source": [
    "def compute_accuracy(model,loader,device):\n",
    "    model.eval()\n",
    "    running_acc = 0.0\n",
    "    for batch_idx,(images,labels) in enumerate(loader):\n",
    "        logits = model(images.to(device))\n",
    "        preds = logits.argmax(dim=1).cpu()\n",
    "        acc = (preds==labels).type(torch.float32).mean()\n",
    "        running_acc+=acc.item()\n",
    "    running_acc /= len(loader)\n",
    "    return running_acc\n",
    "\n",
    "def train(model,optim,criterion,train_loader,val_loader,num_epochs,device):\n",
    "    for i in range(1,num_epochs+1):\n",
    "        model.train()\n",
    "        running_loss = 0.0\n",
    "        running_acc = 0.0\n",
    "        for batch_idx,(images,labels) in enumerate(train_loader):\n",
    "            logits = model(images.to(device))\n",
    "            loss = criterion(logits,labels.to(device))\n",
    "            running_loss+=loss.item()\n",
    "            preds = logits.argmax(dim=1).cpu()\n",
    "            acc = (preds==labels).type(torch.float32).mean()\n",
    "            running_acc+=acc.item()\n",
    "            loss.backward()\n",
    "            opt.step()\n",
    "            opt.zero_grad()\n",
    "        acc = compute_accuracy(model,val_loader,device)\n",
    "        print(f\"Epoch : {i} : train_loss = {running_loss/len(train_loader)} | training_acc = {running_acc/len(train_loader)} | val_acc = {acc}\")"
   ]
  },
  {
   "cell_type": "code",
   "execution_count": 37,
   "id": "4d9fa058-3a03-4872-9338-b36bbcbf9a98",
   "metadata": {},
   "outputs": [
    {
     "data": {
      "text/plain": [
       "torch.Size([1, 784])"
      ]
     },
     "execution_count": 37,
     "metadata": {},
     "output_type": "execute_result"
    }
   ],
   "source": [
    "train_ds[0][0].flatten(1).shape"
   ]
  },
  {
   "cell_type": "code",
   "execution_count": 38,
   "id": "0b769826-51c6-4f64-86f0-829163782974",
   "metadata": {},
   "outputs": [
    {
     "name": "stdout",
     "output_type": "stream",
     "text": [
      "Epoch : 1 : train_loss = 1.6965621169482437 | training_acc = 0.6094662675233645 | val_acc = 0.8179727375507355\n",
      "Epoch : 2 : train_loss = 0.5984015325519526 | training_acc = 0.8554139894859814 | val_acc = 0.8812779009342193\n",
      "Epoch : 3 : train_loss = 0.398023304538192 | training_acc = 0.8916471962616822 | val_acc = 0.9051339268684387\n",
      "Epoch : 4 : train_loss = 0.33049944586285923 | training_acc = 0.9080570969626168 | val_acc = 0.9142219364643097\n",
      "Epoch : 5 : train_loss = 0.29261082577928205 | training_acc = 0.9173663843457944 | val_acc = 0.9233258903026581\n",
      "Epoch : 6 : train_loss = 0.26602522346460933 | training_acc = 0.9249415887850467 | val_acc = 0.9309430778026581\n",
      "Epoch : 7 : train_loss = 0.2457373313536154 | training_acc = 0.9303811331775701 | val_acc = 0.9326092183589936\n",
      "Epoch : 8 : train_loss = 0.22918911250395196 | training_acc = 0.9356929030373832 | val_acc = 0.9393694221973419\n",
      "Epoch : 9 : train_loss = 0.2145322722809337 | training_acc = 0.9395991530373832 | val_acc = 0.9406768202781677\n",
      "Epoch : 10 : train_loss = 0.20197090743301072 | training_acc = 0.9429395443925234 | val_acc = 0.9461296260356903\n"
     ]
    }
   ],
   "source": [
    "device = torch.device('cuda')\n",
    "model = Classifier().to(device)\n",
    "opt = torch.optim.AdamW(model.parameters(),lr=3e-4)\n",
    "criterion = nn.CrossEntropyLoss()\n",
    "train(model,opt,criterion,train_loader,val_loader,10,device)"
   ]
  },
  {
   "cell_type": "code",
   "execution_count": 41,
   "id": "acd3c9b4-84e1-4344-a687-6ae8f7febd55",
   "metadata": {},
   "outputs": [],
   "source": [
    "import lightning as L\n",
    "import torch.nn.functional as F"
   ]
  },
  {
   "cell_type": "code",
   "execution_count": 60,
   "id": "86b59593-fd88-40b2-b884-4679ea96faf0",
   "metadata": {},
   "outputs": [],
   "source": [
    "class LightningModel(L.LightningModule):\n",
    "    def __init__(self,model,lr):\n",
    "        super().__init__()\n",
    "        self.model = model\n",
    "        self.lr = lr\n",
    "    def forward(self,x):\n",
    "        out = self.model(x)\n",
    "        return out\n",
    "    def training_step(self,batch,batch_idx):\n",
    "        imgs,labels = batch\n",
    "        logits = self(imgs)\n",
    "        loss = F.cross_entropy(logits,labels)\n",
    "        self.log('train loss',loss)\n",
    "        return loss\n",
    "    def validation_step(self,batch,batch_idx):\n",
    "        imgs,labels = batch\n",
    "        logits = self(imgs)\n",
    "        loss = F.cross_entropy(logits,labels)\n",
    "        self.log('validation loss',loss)\n",
    "    def configure_optimizers(self):\n",
    "        opt = torch.optim.AdamW(self.parameters(),lr=self.lr)\n",
    "        return opt"
   ]
  },
  {
   "cell_type": "code",
   "execution_count": 61,
   "id": "ef36cb5c-16f3-46ed-a48d-ca8c88358a99",
   "metadata": {},
   "outputs": [
    {
     "name": "stderr",
     "output_type": "stream",
     "text": [
      "GPU available: True (cuda), used: True\n",
      "TPU available: False, using: 0 TPU cores\n",
      "IPU available: False, using: 0 IPUs\n",
      "HPU available: False, using: 0 HPUs\n",
      "LOCAL_RANK: 0 - CUDA_VISIBLE_DEVICES: [0]\n",
      "\n",
      "  | Name  | Type       | Params\n",
      "-------------------------------------\n",
      "0 | model | Classifier | 55.1 K\n",
      "-------------------------------------\n",
      "55.1 K    Trainable params\n",
      "0         Non-trainable params\n",
      "55.1 K    Total params\n",
      "0.220     Total estimated model params size (MB)\n"
     ]
    },
    {
     "name": "stdout",
     "output_type": "stream",
     "text": [
      "Epoch 0: 100%|██████████████████████████████████████████████████████████████| 107/107 [00:05<00:00, 20.81it/s, v_num=4]\n",
      "Validation: |                                                                                    | 0/? [00:00<?, ?it/s]\u001b[A\n",
      "Validation:   0%|                                                                               | 0/10 [00:00<?, ?it/s]\u001b[A\n",
      "Validation DataLoader 0:   0%|                                                                  | 0/10 [00:00<?, ?it/s]\u001b[A\n",
      "Validation DataLoader 0:  10%|█████▊                                                    | 1/10 [00:00<00:00, 58.26it/s]\u001b[A\n",
      "Validation DataLoader 0:  20%|███████████▌                                              | 2/10 [00:00<00:00, 66.10it/s]\u001b[A\n",
      "Validation DataLoader 0:  30%|█████████████████▍                                        | 3/10 [00:00<00:00, 70.62it/s]\u001b[A\n",
      "Validation DataLoader 0:  40%|███████████████████████▏                                  | 4/10 [00:00<00:00, 72.75it/s]\u001b[A\n",
      "Validation DataLoader 0:  50%|█████████████████████████████                             | 5/10 [00:00<00:00, 29.02it/s]\u001b[A\n",
      "Validation DataLoader 0:  60%|██████████████████████████████████▊                       | 6/10 [00:00<00:00, 32.47it/s]\u001b[A\n",
      "Validation DataLoader 0:  70%|████████████████████████████████████████▌                 | 7/10 [00:00<00:00, 35.12it/s]\u001b[A\n",
      "Validation DataLoader 0:  80%|██████████████████████████████████████████████▍           | 8/10 [00:00<00:00, 37.76it/s]\u001b[A\n",
      "Validation DataLoader 0:  90%|████████████████████████████████████████████████████▏     | 9/10 [00:00<00:00, 26.55it/s]\u001b[A\n",
      "Validation DataLoader 0: 100%|█████████████████████████████████████████████████████████| 10/10 [00:00<00:00, 28.62it/s]\u001b[A\n",
      "Epoch 1: 100%|██████████████████████████████████████████████████████████████| 107/107 [00:04<00:00, 21.48it/s, v_num=4]\u001b[A\n",
      "Validation: |                                                                                    | 0/? [00:00<?, ?it/s]\u001b[A\n",
      "Validation:   0%|                                                                               | 0/10 [00:00<?, ?it/s]\u001b[A\n",
      "Validation DataLoader 0:   0%|                                                                  | 0/10 [00:00<?, ?it/s]\u001b[A\n",
      "Validation DataLoader 0:  10%|█████▊                                                    | 1/10 [00:00<00:00, 66.01it/s]\u001b[A\n",
      "Validation DataLoader 0:  20%|███████████▌                                              | 2/10 [00:00<00:00, 72.18it/s]\u001b[A\n",
      "Validation DataLoader 0:  30%|█████████████████▍                                        | 3/10 [00:00<00:00, 74.52it/s]\u001b[A\n",
      "Validation DataLoader 0:  40%|███████████████████████▏                                  | 4/10 [00:00<00:00, 78.72it/s]\u001b[A\n",
      "Validation DataLoader 0:  50%|█████████████████████████████                             | 5/10 [00:00<00:00, 27.30it/s]\u001b[A\n",
      "Validation DataLoader 0:  60%|██████████████████████████████████▊                       | 6/10 [00:00<00:00, 30.79it/s]\u001b[A\n",
      "Validation DataLoader 0:  70%|████████████████████████████████████████▌                 | 7/10 [00:00<00:00, 33.70it/s]\u001b[A\n",
      "Validation DataLoader 0:  80%|██████████████████████████████████████████████▍           | 8/10 [00:00<00:00, 35.88it/s]\u001b[A\n",
      "Validation DataLoader 0:  90%|████████████████████████████████████████████████████▏     | 9/10 [00:00<00:00, 24.66it/s]\u001b[A\n",
      "Validation DataLoader 0: 100%|█████████████████████████████████████████████████████████| 10/10 [00:00<00:00, 26.54it/s]\u001b[A\n",
      "Epoch 2: 100%|██████████████████████████████████████████████████████████████| 107/107 [00:05<00:00, 18.05it/s, v_num=4]\u001b[A\n",
      "Validation: |                                                                                    | 0/? [00:00<?, ?it/s]\u001b[A\n",
      "Validation:   0%|                                                                               | 0/10 [00:00<?, ?it/s]\u001b[A\n",
      "Validation DataLoader 0:   0%|                                                                  | 0/10 [00:00<?, ?it/s]\u001b[A\n",
      "Validation DataLoader 0:  10%|█████▊                                                    | 1/10 [00:00<00:00, 58.90it/s]\u001b[A\n",
      "Validation DataLoader 0:  20%|███████████▌                                              | 2/10 [00:00<00:00, 71.49it/s]\u001b[A\n",
      "Validation DataLoader 0:  30%|█████████████████▍                                        | 3/10 [00:00<00:00, 76.93it/s]\u001b[A\n",
      "Validation DataLoader 0:  40%|███████████████████████▏                                  | 4/10 [00:00<00:00, 71.99it/s]\u001b[A\n",
      "Validation DataLoader 0:  50%|█████████████████████████████                             | 5/10 [00:00<00:00, 26.72it/s]\u001b[A\n",
      "Validation DataLoader 0:  60%|██████████████████████████████████▊                       | 6/10 [00:00<00:00, 29.98it/s]\u001b[A\n",
      "Validation DataLoader 0:  70%|████████████████████████████████████████▌                 | 7/10 [00:00<00:00, 33.00it/s]\u001b[A\n",
      "Validation DataLoader 0:  80%|██████████████████████████████████████████████▍           | 8/10 [00:00<00:00, 35.53it/s]\u001b[A\n",
      "Validation DataLoader 0:  90%|████████████████████████████████████████████████████▏     | 9/10 [00:00<00:00, 24.36it/s]\u001b[A\n",
      "Validation DataLoader 0: 100%|█████████████████████████████████████████████████████████| 10/10 [00:00<00:00, 26.21it/s]\u001b[A\n",
      "Epoch 3: 100%|██████████████████████████████████████████████████████████████| 107/107 [00:05<00:00, 20.64it/s, v_num=4]\u001b[A\n",
      "Validation: |                                                                                    | 0/? [00:00<?, ?it/s]\u001b[A\n",
      "Validation:   0%|                                                                               | 0/10 [00:00<?, ?it/s]\u001b[A\n",
      "Validation DataLoader 0:   0%|                                                                  | 0/10 [00:00<?, ?it/s]\u001b[A\n",
      "Validation DataLoader 0:  10%|█████▊                                                    | 1/10 [00:00<00:00, 58.80it/s]\u001b[A\n",
      "Validation DataLoader 0:  20%|███████████▌                                              | 2/10 [00:00<00:00, 64.52it/s]\u001b[A\n",
      "Validation DataLoader 0:  30%|█████████████████▍                                        | 3/10 [00:00<00:00, 71.42it/s]\u001b[A\n",
      "Validation DataLoader 0:  40%|███████████████████████▏                                  | 4/10 [00:00<00:00, 74.04it/s]\u001b[A\n",
      "Validation DataLoader 0:  50%|█████████████████████████████                             | 5/10 [00:00<00:00, 27.00it/s]\u001b[A\n",
      "Validation DataLoader 0:  60%|██████████████████████████████████▊                       | 6/10 [00:00<00:00, 30.13it/s]\u001b[A\n",
      "Validation DataLoader 0:  70%|████████████████████████████████████████▌                 | 7/10 [00:00<00:00, 32.99it/s]\u001b[A\n",
      "Validation DataLoader 0:  80%|██████████████████████████████████████████████▍           | 8/10 [00:00<00:00, 35.37it/s]\u001b[A\n",
      "Validation DataLoader 0:  90%|████████████████████████████████████████████████████▏     | 9/10 [00:00<00:00, 24.57it/s]\u001b[A\n",
      "Validation DataLoader 0: 100%|█████████████████████████████████████████████████████████| 10/10 [00:00<00:00, 26.44it/s]\u001b[A\n",
      "Epoch 4: 100%|██████████████████████████████████████████████████████████████| 107/107 [00:05<00:00, 20.45it/s, v_num=4]\u001b[A\n",
      "Validation: |                                                                                    | 0/? [00:00<?, ?it/s]\u001b[A\n",
      "Validation:   0%|                                                                               | 0/10 [00:00<?, ?it/s]\u001b[A\n",
      "Validation DataLoader 0:   0%|                                                                  | 0/10 [00:00<?, ?it/s]\u001b[A\n",
      "Validation DataLoader 0:  10%|█████▊                                                    | 1/10 [00:00<00:00, 58.78it/s]\u001b[A\n",
      "Validation DataLoader 0:  20%|███████████▌                                              | 2/10 [00:00<00:00, 65.47it/s]\u001b[A\n",
      "Validation DataLoader 0:  30%|█████████████████▍                                        | 3/10 [00:00<00:00, 67.32it/s]\u001b[A\n",
      "Validation DataLoader 0:  40%|███████████████████████▏                                  | 4/10 [00:00<00:00, 72.00it/s]\u001b[A\n",
      "Validation DataLoader 0:  50%|█████████████████████████████                             | 5/10 [00:00<00:00, 27.61it/s]\u001b[A\n",
      "Validation DataLoader 0:  60%|██████████████████████████████████▊                       | 6/10 [00:00<00:00, 31.07it/s]\u001b[A\n",
      "Validation DataLoader 0:  70%|████████████████████████████████████████▌                 | 7/10 [00:00<00:00, 34.13it/s]\u001b[A\n",
      "Validation DataLoader 0:  80%|██████████████████████████████████████████████▍           | 8/10 [00:00<00:00, 36.85it/s]\u001b[A\n",
      "Validation DataLoader 0:  90%|████████████████████████████████████████████████████▏     | 9/10 [00:00<00:00, 25.26it/s]\u001b[A\n",
      "Validation DataLoader 0: 100%|█████████████████████████████████████████████████████████| 10/10 [00:00<00:00, 27.01it/s]\u001b[A\n",
      "Epoch 5: 100%|██████████████████████████████████████████████████████████████| 107/107 [00:04<00:00, 21.96it/s, v_num=4]\u001b[A\n",
      "Validation: |                                                                                    | 0/? [00:00<?, ?it/s]\u001b[A\n",
      "Validation:   0%|                                                                               | 0/10 [00:00<?, ?it/s]\u001b[A\n",
      "Validation DataLoader 0:   0%|                                                                  | 0/10 [00:00<?, ?it/s]\u001b[A\n",
      "Validation DataLoader 0:  10%|█████▊                                                    | 1/10 [00:00<00:00, 71.42it/s]\u001b[A\n",
      "Validation DataLoader 0:  20%|███████████▌                                              | 2/10 [00:00<00:00, 85.25it/s]\u001b[A\n",
      "Validation DataLoader 0:  30%|█████████████████▍                                        | 3/10 [00:00<00:00, 82.46it/s]\u001b[A\n",
      "Validation DataLoader 0:  40%|███████████████████████▏                                  | 4/10 [00:00<00:00, 82.36it/s]\u001b[A\n",
      "Validation DataLoader 0:  50%|█████████████████████████████                             | 5/10 [00:00<00:00, 30.83it/s]\u001b[A\n",
      "Validation DataLoader 0:  60%|██████████████████████████████████▊                       | 6/10 [00:00<00:00, 34.43it/s]\u001b[A\n",
      "Validation DataLoader 0:  70%|████████████████████████████████████████▌                 | 7/10 [00:00<00:00, 37.29it/s]\u001b[A\n",
      "Validation DataLoader 0:  80%|██████████████████████████████████████████████▍           | 8/10 [00:00<00:00, 40.25it/s]\u001b[A\n",
      "Validation DataLoader 0:  90%|████████████████████████████████████████████████████▏     | 9/10 [00:00<00:00, 29.36it/s]\u001b[A\n",
      "Validation DataLoader 0: 100%|█████████████████████████████████████████████████████████| 10/10 [00:00<00:00, 31.49it/s]\u001b[A\n",
      "Epoch 6: 100%|██████████████████████████████████████████████████████████████| 107/107 [00:04<00:00, 22.22it/s, v_num=4]\u001b[A\n",
      "Validation: |                                                                                    | 0/? [00:00<?, ?it/s]\u001b[A\n",
      "Validation:   0%|                                                                               | 0/10 [00:00<?, ?it/s]\u001b[A\n",
      "Validation DataLoader 0:   0%|                                                                  | 0/10 [00:00<?, ?it/s]\u001b[A\n",
      "Validation DataLoader 0:  10%|█████▊                                                    | 1/10 [00:00<00:00, 66.65it/s]\u001b[A\n",
      "Validation DataLoader 0:  20%|███████████▌                                              | 2/10 [00:00<00:00, 71.42it/s]\u001b[A\n",
      "Validation DataLoader 0:  30%|█████████████████▍                                        | 3/10 [00:00<00:00, 78.90it/s]\u001b[A\n",
      "Validation DataLoader 0:  40%|███████████████████████▏                                  | 4/10 [00:00<00:00, 80.80it/s]\u001b[A\n",
      "Validation DataLoader 0:  50%|█████████████████████████████                             | 5/10 [00:00<00:00, 27.52it/s]\u001b[A\n",
      "Validation DataLoader 0:  60%|██████████████████████████████████▊                       | 6/10 [00:00<00:00, 30.56it/s]\u001b[A\n",
      "Validation DataLoader 0:  70%|████████████████████████████████████████▌                 | 7/10 [00:00<00:00, 33.60it/s]\u001b[A\n",
      "Validation DataLoader 0:  80%|██████████████████████████████████████████████▍           | 8/10 [00:00<00:00, 36.30it/s]\u001b[A\n",
      "Validation DataLoader 0:  90%|████████████████████████████████████████████████████▏     | 9/10 [00:00<00:00, 27.19it/s]\u001b[A\n",
      "Validation DataLoader 0: 100%|█████████████████████████████████████████████████████████| 10/10 [00:00<00:00, 29.41it/s]\u001b[A\n",
      "Epoch 7: 100%|██████████████████████████████████████████████████████████████| 107/107 [00:04<00:00, 22.86it/s, v_num=4]\u001b[A\n",
      "Validation: |                                                                                    | 0/? [00:00<?, ?it/s]\u001b[A\n",
      "Validation:   0%|                                                                               | 0/10 [00:00<?, ?it/s]\u001b[A\n",
      "Validation DataLoader 0:   0%|                                                                  | 0/10 [00:00<?, ?it/s]\u001b[A\n",
      "Validation DataLoader 0:  10%|█████▊                                                    | 1/10 [00:00<00:00, 38.33it/s]\u001b[A\n",
      "Validation DataLoader 0:  20%|███████████▌                                              | 2/10 [00:00<00:00, 49.76it/s]\u001b[A\n",
      "Validation DataLoader 0:  30%|█████████████████▍                                        | 3/10 [00:00<00:00, 57.47it/s]\u001b[A\n",
      "Validation DataLoader 0:  40%|███████████████████████▏                                  | 4/10 [00:00<00:00, 62.83it/s]\u001b[A\n",
      "Validation DataLoader 0:  50%|█████████████████████████████                             | 5/10 [00:00<00:00, 27.61it/s]\u001b[A\n",
      "Validation DataLoader 0:  60%|██████████████████████████████████▊                       | 6/10 [00:00<00:00, 31.23it/s]\u001b[A\n",
      "Validation DataLoader 0:  70%|████████████████████████████████████████▌                 | 7/10 [00:00<00:00, 34.11it/s]\u001b[A\n",
      "Validation DataLoader 0:  80%|██████████████████████████████████████████████▍           | 8/10 [00:00<00:00, 36.91it/s]\u001b[A\n",
      "Validation DataLoader 0:  90%|████████████████████████████████████████████████████▏     | 9/10 [00:00<00:00, 26.99it/s]\u001b[A\n",
      "Validation DataLoader 0: 100%|█████████████████████████████████████████████████████████| 10/10 [00:00<00:00, 29.12it/s]\u001b[A\n",
      "Epoch 8: 100%|██████████████████████████████████████████████████████████████| 107/107 [00:04<00:00, 21.83it/s, v_num=4]\u001b[A\n",
      "Validation: |                                                                                    | 0/? [00:00<?, ?it/s]\u001b[A\n",
      "Validation:   0%|                                                                               | 0/10 [00:00<?, ?it/s]\u001b[A\n",
      "Validation DataLoader 0:   0%|                                                                  | 0/10 [00:00<?, ?it/s]\u001b[A\n",
      "Validation DataLoader 0:  10%|█████▊                                                    | 1/10 [00:00<00:00, 71.44it/s]\u001b[A\n",
      "Validation DataLoader 0:  20%|███████████▌                                              | 2/10 [00:00<00:00, 81.37it/s]\u001b[A\n",
      "Validation DataLoader 0:  30%|█████████████████▍                                        | 3/10 [00:00<00:00, 84.30it/s]\u001b[A\n",
      "Validation DataLoader 0:  40%|███████████████████████▏                                  | 4/10 [00:00<00:00, 87.74it/s]\u001b[A\n",
      "Validation DataLoader 0:  50%|█████████████████████████████                             | 5/10 [00:00<00:00, 29.89it/s]\u001b[A\n",
      "Validation DataLoader 0:  60%|██████████████████████████████████▊                       | 6/10 [00:00<00:00, 33.84it/s]\u001b[A\n",
      "Validation DataLoader 0:  70%|████████████████████████████████████████▌                 | 7/10 [00:00<00:00, 37.37it/s]\u001b[A\n",
      "Validation DataLoader 0:  80%|██████████████████████████████████████████████▍           | 8/10 [00:00<00:00, 40.35it/s]\u001b[A\n",
      "Validation DataLoader 0:  90%|████████████████████████████████████████████████████▏     | 9/10 [00:00<00:00, 28.14it/s]\u001b[A\n",
      "Validation DataLoader 0: 100%|█████████████████████████████████████████████████████████| 10/10 [00:00<00:00, 30.41it/s]\u001b[A\n",
      "Epoch 9: 100%|██████████████████████████████████████████████████████████████| 107/107 [00:04<00:00, 22.03it/s, v_num=4]\u001b[A\n",
      "Validation: |                                                                                    | 0/? [00:00<?, ?it/s]\u001b[A\n",
      "Validation:   0%|                                                                               | 0/10 [00:00<?, ?it/s]\u001b[A\n",
      "Validation DataLoader 0:   0%|                                                                  | 0/10 [00:00<?, ?it/s]\u001b[A\n",
      "Validation DataLoader 0:  10%|█████▊                                                    | 1/10 [00:00<00:00, 62.49it/s]\u001b[A\n",
      "Validation DataLoader 0:  20%|███████████▌                                              | 2/10 [00:00<00:00, 71.39it/s]\u001b[A\n",
      "Validation DataLoader 0:  30%|█████████████████▍                                        | 3/10 [00:00<00:00, 73.16it/s]\u001b[A\n",
      "Validation DataLoader 0:  40%|███████████████████████▏                                  | 4/10 [00:00<00:00, 75.51it/s]\u001b[A\n",
      "Validation DataLoader 0:  50%|█████████████████████████████                             | 5/10 [00:00<00:00, 29.19it/s]\u001b[A\n",
      "Validation DataLoader 0:  60%|██████████████████████████████████▊                       | 6/10 [00:00<00:00, 32.73it/s]\u001b[A\n",
      "Validation DataLoader 0:  70%|████████████████████████████████████████▌                 | 7/10 [00:00<00:00, 35.83it/s]\u001b[A\n",
      "Validation DataLoader 0:  80%|██████████████████████████████████████████████▍           | 8/10 [00:00<00:00, 38.21it/s]\u001b[A\n",
      "Validation DataLoader 0:  90%|████████████████████████████████████████████████████▏     | 9/10 [00:00<00:00, 25.93it/s]\u001b[A\n",
      "Validation DataLoader 0: 100%|█████████████████████████████████████████████████████████| 10/10 [00:00<00:00, 27.38it/s]\u001b[A\n",
      "Epoch 9: 100%|██████████████████████████████████████████████████████████████| 107/107 [00:05<00:00, 19.68it/s, v_num=4]\u001b[A"
     ]
    },
    {
     "name": "stderr",
     "output_type": "stream",
     "text": [
      "`Trainer.fit` stopped: `max_epochs=10` reached.\n"
     ]
    },
    {
     "name": "stdout",
     "output_type": "stream",
     "text": [
      "Epoch 9: 100%|██████████████████████████████████████████████████████████████| 107/107 [00:05<00:00, 19.62it/s, v_num=4]\n"
     ]
    }
   ],
   "source": [
    "model = Classifier()\n",
    "lightning_model = LightningModel(model=model,lr=1e-3)\n",
    "trainer = L.Trainer(\n",
    "    accelerator='gpu',\n",
    "    devices=1,\n",
    "    max_epochs=10,\n",
    "    \n",
    ")\n",
    "trainer.fit(\n",
    "    model=lightning_model,\n",
    "    train_dataloaders=train_loader,\n",
    "    val_dataloaders=val_loader,\n",
    ")"
   ]
  },
  {
   "cell_type": "code",
   "execution_count": 64,
   "id": "3b1cc57f-be71-4007-91ec-3d89d6373758",
   "metadata": {},
   "outputs": [
    {
     "data": {
      "text/plain": [
       "0.974609375"
      ]
     },
     "execution_count": 64,
     "metadata": {},
     "output_type": "execute_result"
    }
   ],
   "source": [
    "compute_accuracy(model.to(device),train_loader,device)"
   ]
  },
  {
   "cell_type": "code",
   "execution_count": 65,
   "id": "51958c4b-616c-4d75-9fcb-1126664e94e4",
   "metadata": {},
   "outputs": [],
   "source": [
    "import torchmetrics"
   ]
  },
  {
   "cell_type": "code",
   "execution_count": 70,
   "id": "91fefb89-c5c0-4238-9e18-4e692ca8131f",
   "metadata": {},
   "outputs": [],
   "source": [
    "def compute_accuracy(model,dataloader,device):\n",
    "    model.eval()\n",
    "    acc = torchmetrics.Accuracy(task='multiclass',num_classes=10).to(device)\n",
    "    for batch_idx,(images,labels) in enumerate(dataloader):\n",
    "        with torch.inference_mode():\n",
    "            logits = model(images.to(device))\n",
    "        pred = logits.argmax(dim=1)\n",
    "        acc(pred,labels.to(device))\n",
    "    return acc"
   ]
  },
  {
   "cell_type": "code",
   "execution_count": 72,
   "id": "05011aee-b146-4b91-8eac-7e906f77f6b1",
   "metadata": {},
   "outputs": [
    {
     "data": {
      "text/plain": [
       "tensor(0.9667, device='cuda:0')"
      ]
     },
     "execution_count": 72,
     "metadata": {},
     "output_type": "execute_result"
    }
   ],
   "source": [
    "acc = compute_accuracy(model.to(device),test_loader,device)\n",
    "acc.compute()"
   ]
  },
  {
   "cell_type": "code",
   "execution_count": null,
   "id": "bb5ceb3a-39be-4840-a154-60bedc6e36c1",
   "metadata": {},
   "outputs": [],
   "source": []
  }
 ],
 "metadata": {
  "kernelspec": {
   "display_name": "acehacks",
   "language": "python",
   "name": "acehacks"
  },
  "language_info": {
   "codemirror_mode": {
    "name": "ipython",
    "version": 3
   },
   "file_extension": ".py",
   "mimetype": "text/x-python",
   "name": "python",
   "nbconvert_exporter": "python",
   "pygments_lexer": "ipython3",
   "version": "3.12.2"
  }
 },
 "nbformat": 4,
 "nbformat_minor": 5
}
